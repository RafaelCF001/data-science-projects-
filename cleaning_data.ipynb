{
 "cells": [
  {
   "cell_type": "code",
   "execution_count": 48,
   "source": [
    "import pandas as pd \r\n",
    "import datetime"
   ],
   "outputs": [],
   "metadata": {}
  },
  {
   "cell_type": "code",
   "execution_count": 49,
   "source": [
    "valores_limp=['***','NULL','####','###!','****']\r\n",
    "df = pd.read_csv('C:/Users/rafik/OneDrive/Área de Trabalho/programação/science/ocorrencia.csv',error_bad_lines=False,sep=';',na_values = valores_limp)"
   ],
   "outputs": [],
   "metadata": {}
  },
  {
   "cell_type": "code",
   "execution_count": 50,
   "source": [
    "df = df.drop(columns = ['codigo_ocorrencia2','codigo_ocorrencia3','codigo_ocorrencia4','divulgacao_relatorio_numero','divulgacao_relatorio_publicado','divulgacao_dia_publicacao'])"
   ],
   "outputs": [],
   "metadata": {}
  },
  {
   "cell_type": "code",
   "execution_count": 51,
   "source": [
    "df['ocorrecia_dia']=df['ocorrencia_dia'].astype('datetime64[ns]')\r\n",
    "df['ocorrencia_hora'] = pd.to_timedelta(df['ocorrencia_hora'])"
   ],
   "outputs": [],
   "metadata": {}
  },
  {
   "cell_type": "markdown",
   "source": [
    "df"
   ],
   "metadata": {}
  }
 ],
 "metadata": {
  "orig_nbformat": 4,
  "language_info": {
   "name": "python",
   "version": "3.8.8",
   "mimetype": "text/x-python",
   "codemirror_mode": {
    "name": "ipython",
    "version": 3
   },
   "pygments_lexer": "ipython3",
   "nbconvert_exporter": "python",
   "file_extension": ".py"
  },
  "kernelspec": {
   "name": "python3",
   "display_name": "Python 3.8.8 64-bit ('base': conda)"
  },
  "interpreter": {
   "hash": "a5e29f1a0af681125dc7fd16a5e030b5864152418578003182444c8e14f517dd"
  }
 },
 "nbformat": 4,
 "nbformat_minor": 2
}